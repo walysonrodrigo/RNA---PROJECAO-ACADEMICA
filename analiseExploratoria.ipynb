{
 "cells": [
  {
   "cell_type": "markdown",
   "metadata": {},
   "source": [
    "#### Análise da Retenção e Sucesso Acadêmico dos Estudantes em Cursos Universitários\n",
    "\n",
    "<p>\n",
    "O objetivo desta análise é compreender os fatores que levam estudantes a abandonar ou atrasar sua trajetória acadêmica. Identificar as causas subjacentes a esses desafios permite desenvolver estratégias eficazes para melhorar a retenção, apoiar o sucesso acadêmico e otimizar a experiência educacional dos alunos.\n",
    "</p> \n"
   ]
  },
  {
   "cell_type": "markdown",
   "metadata": {},
   "source": [
    "### Informações do conjunto de dados\n",
    "\n",
    "1. **Marital Status**: estado civil do estudante [1 – solteiro, 2 – casado, 3 – viúvo, 4 – divorciado, 5 – união de fato, 6 – separado legalmente] \n",
    "\n",
    "2. **Application mode**: modo de aplicação [diferentes códigos numéricos indicando fases e contingentes específicos de candidatura] \n",
    "\n",
    "3. **Application order**: ordem de aplicação [0 - primeira escolha; 9 - última escolha] \n",
    "\n",
    "4. **Course**: curso [diferentes códigos numéricos para cursos, como Tecnologias de Produção de Biocombustíveis, Design de Animação e Multimídia, entre outros] \n",
    "\n",
    "5. **Daytime/evening attendance**: turno de frequência [1 – diurno, 0 – noturno] \n",
    "\n",
    "6. **Previous qualification**: nível de educação anterior [códigos numéricos indicando diferentes níveis de escolaridade, como ensino secundário, bacharelado, mestrado, etc.] \n",
    "\n",
    "7. **Previous qualification (grade)**: nota da qualificação anterior [entre 0 e 200] \n",
    "\n",
    "8. **Nacionality**: nacionalidade do estudante [1 – Português, 2 – Alemão, 6 – Espanhol, entre outros] \n",
    "\n",
    "9. **Mother's qualification**: qualificação educacional da mãe [códigos numéricos indicando níveis de escolaridade, como ensino secundário, bacharelado, mestrado, etc.] \n",
    "\n",
    "10. **Father's qualification**: qualificação educacional do pai [códigos numéricos indicando níveis de escolaridade, como ensino secundário, bacharelado, mestrado, etc.] \n",
    "\n",
    "11. **Mother's occupation**: ocupação da mãe [códigos numéricos indicando profissões, como estudante, professores, trabalhadores da saúde, etc.] \n",
    "\n",
    "12. **Father's occupation**: ocupação do pai [códigos numéricos indicando profissões, como estudante, professores, trabalhadores da saúde, etc.] \n",
    "\n",
    "13. **Admission grade**: nota de admissão [entre 0 e 200] \n",
    "\n",
    "14. **Displaced**: deslocado (estudante mora fora de casa) [1 – sim, 0 – não] \n",
    "\n",
    "15. **Educational special needs**: necessidades educacionais especiais [1 – sim, 0 – não] \n",
    "\n",
    "16. **Debtor**: devedor (estudante em dívida) [1 – sim, 0 – não] \n",
    "\n",
    "17. **Tuition fees up to date**: mensalidades em dia [1 – sim, 0 – não] \n",
    "\n",
    "18. **Gender**: gênero do estudante [1 – masculino, 0 – feminino] \n",
    "\n",
    "19. **Scholarship holder**: bolsista [1 – sim, 0 – não] \n",
    "\n",
    "20. **Age at enrollment**: idade do estudante na matrícula [anos] \n",
    "\n",
    "21. **International**: estudante internacional [1 – sim, 0 – não] \n",
    "\n",
    "22. **Curricular units 1st sem (credited)**: número de unidades curriculares creditadas no 1º semestre \n",
    "\n",
    "23. **Curricular units 1st sem (enrolled)**: número de unidades curriculares inscritas no 1º semestre \n",
    "\n",
    "24. **Curricular units 1st sem (evaluations)**: número de avaliações realizadas nas unidades curriculares no 1º semestre \n",
    "\n",
    "25. **Curricular units 1st sem (approved)**: número de unidades curriculares aprovadas no 1º semestre \n",
    "\n",
    "26. **Curricular units 1st sem (grade)**: média de notas no 1º semestre [entre 0 e 20] \n",
    "\n",
    "27. **Curricular units 1st sem (without evaluations)**: número de unidades curriculares sem avaliações no 1º semestre \n",
    "\n",
    "28. **Curricular units 2nd sem (credited)**: número de unidades curriculares creditadas no 2º semestre \n",
    "\n",
    "29. **Curricular units 2nd sem (enrolled)**: número de unidades curriculares inscritas no 2º semestre \n",
    "\n",
    "30. **Curricular units 2nd sem (evaluations)**: número de avaliações realizadas nas unidades curriculares no 2º semestre \n",
    "\n",
    "31. **Curricular units 2nd sem (approved)**: número de unidades curriculares aprovadas no 2º semestre \n",
    "\n",
    "32. **Curricular units 2nd sem (grade)**: média de notas no 2º semestre [entre 0 e 20] \n",
    "\n",
    "33. **Curricular units 2nd sem (without evaluations)**: número de unidades curriculares sem avaliações no 2º semestre \n",
    "\n",
    "34. **Unemployment rate**: taxa de desemprego [%] \n",
    "\n",
    "35. **Inflation rate**: taxa de inflação [%] \n",
    "\n",
    "36. **GDP**: Produto Interno Bruto (PIB) \n",
    "\n",
    "37. **Target**: resultado final do estudante [categorias: 0 - desistência, 1 - matrícula continuada, 2 - graduação] no final da duração normal do curso "
   ]
  },
  {
   "cell_type": "code",
   "execution_count": 8,
   "metadata": {},
   "outputs": [],
   "source": [
    "# import libraries\n",
    "import pandas as pd\n",
    "import matplotlib.pyplot as plt\n",
    "import numpy as np\n",
    "import seaborn as sns\n",
    "from ucimlrepo import fetch_ucirepo"
   ]
  },
  {
   "cell_type": "code",
   "execution_count": 9,
   "metadata": {},
   "outputs": [],
   "source": [
    "# set pandas options\n",
    "\n",
    "pd.set_option('display.max_columns', None)\n",
    "pd.set_option('display.max_rows', None)\n",
    "pd.options.display.float_format = '{:.2f}'.format"
   ]
  },
  {
   "cell_type": "code",
   "execution_count": 10,
   "metadata": {},
   "outputs": [],
   "source": [
    "data = pd.read_csv(filepath_or_buffer='data.csv', delimiter=';')"
   ]
  },
  {
   "cell_type": "markdown",
   "metadata": {},
   "source": [
    "##### 1º - Avaliar o conjunto de dados de forma macro para compreender os dados"
   ]
  },
  {
   "cell_type": "code",
   "execution_count": null,
   "metadata": {},
   "outputs": [],
   "source": [
    "# verificando as primeiras linhas\n",
    "data.head()"
   ]
  },
  {
   "cell_type": "code",
   "execution_count": 12,
   "metadata": {},
   "outputs": [
    {
     "data": {
      "text/plain": [
       "(4424, 37)"
      ]
     },
     "execution_count": 12,
     "metadata": {},
     "output_type": "execute_result"
    }
   ],
   "source": [
    "# verificando o formato do dataset. return (rows, columns)\n",
    "data.shape"
   ]
  },
  {
   "cell_type": "code",
   "execution_count": null,
   "metadata": {},
   "outputs": [],
   "source": [
    "# verificando os tipos de dados\n",
    "data.info()"
   ]
  },
  {
   "cell_type": "markdown",
   "metadata": {},
   "source": [
    "##### 2º - Verificar se existe valores nulos"
   ]
  },
  {
   "cell_type": "code",
   "execution_count": null,
   "metadata": {},
   "outputs": [],
   "source": [
    "# verificando a existência de valores nulos\n",
    "data.isnull().sum()"
   ]
  },
  {
   "cell_type": "markdown",
   "metadata": {},
   "source": [
    "##### 3º - Verificando os valores únicos de cada coluna"
   ]
  },
  {
   "cell_type": "code",
   "execution_count": null,
   "metadata": {},
   "outputs": [],
   "source": [
    "# total de valores unicos\n",
    "\n",
    "valores_unicos = data.nunique()\n",
    "valores_unicos"
   ]
  },
  {
   "cell_type": "code",
   "execution_count": 16,
   "metadata": {},
   "outputs": [],
   "source": [
    "# tratando a coluna TARGET\n",
    "\n",
    "data['Target'] = data['Target'].map({'Dropout': 0, 'Enrolled': 1, 'Graduate': 2})"
   ]
  },
  {
   "cell_type": "markdown",
   "metadata": {},
   "source": [
    "##### 4º - Visualizar as medidas estatisticas principais.\n",
    "##### Média | Mediana | Desvio Padrão | Quartis | Valores mínimos e máximos. "
   ]
  },
  {
   "cell_type": "code",
   "execution_count": null,
   "metadata": {},
   "outputs": [],
   "source": [
    "# visualizando os valores estatísticos\n",
    "data.describe()"
   ]
  },
  {
   "cell_type": "markdown",
   "metadata": {},
   "source": [
    "##### 5º - Avaliar as variáveis de forma individual por meio de gráficos."
   ]
  },
  {
   "cell_type": "code",
   "execution_count": null,
   "metadata": {},
   "outputs": [],
   "source": [
    "# analisando a variavel Gender\n",
    "\n",
    "data.groupby('Gender').size()"
   ]
  },
  {
   "cell_type": "code",
   "execution_count": null,
   "metadata": {},
   "outputs": [],
   "source": [
    "data.Gender.value_counts().plot(\n",
    "    kind='bar',\n",
    "    title='Distribuição de Gênero',\n",
    "    color=['blue', 'red']\n",
    ")"
   ]
  },
  {
   "cell_type": "code",
   "execution_count": null,
   "metadata": {},
   "outputs": [],
   "source": [
    "# analisando a variavel Nacionality\n",
    "\n",
    "data.groupby('Nacionality').size()"
   ]
  },
  {
   "cell_type": "code",
   "execution_count": null,
   "metadata": {},
   "outputs": [],
   "source": [
    "# gerando um gráfico de barras para a variável Nacionality\n",
    "\n",
    "data.Nacionality.value_counts().plot(\n",
    "    kind='bar',\n",
    "    title='Distribuição de Nacionalidade',\n",
    "    color=['blue', 'red']\n",
    ")"
   ]
  },
  {
   "cell_type": "code",
   "execution_count": null,
   "metadata": {},
   "outputs": [],
   "source": [
    "# analisando a variavel Mother's qualification\n",
    "data.groupby('Mother\\'s qualification').size()"
   ]
  },
  {
   "cell_type": "code",
   "execution_count": null,
   "metadata": {},
   "outputs": [],
   "source": [
    "# gerando um gráfico de barras para a variável Mother's qualification\n",
    "data['Mother\\'s qualification'].value_counts().plot(\n",
    "    kind='bar',\n",
    "    title='Distribuição de Qualificação da Mãe',\n",
    "    color=['blue', 'red']\n",
    ")"
   ]
  },
  {
   "cell_type": "code",
   "execution_count": null,
   "metadata": {},
   "outputs": [],
   "source": [
    "# analisando a variavel Father's qualification\n",
    "data.groupby('Father\\'s qualification').size()"
   ]
  },
  {
   "cell_type": "code",
   "execution_count": null,
   "metadata": {},
   "outputs": [],
   "source": [
    "# gerando um gráfico de barras para a variável Father's qualification\n",
    "data['Father\\'s qualification'].value_counts().plot(\n",
    "    kind='bar',\n",
    "    title='Distribuição de Qualificação do Pai',\n",
    "    color=['blue', 'red']\n",
    ")"
   ]
  },
  {
   "cell_type": "code",
   "execution_count": null,
   "metadata": {},
   "outputs": [],
   "source": [
    "# analisando a variavel Mother's occupation\n",
    "data.groupby('Mother\\'s occupation').size()"
   ]
  },
  {
   "cell_type": "code",
   "execution_count": null,
   "metadata": {},
   "outputs": [],
   "source": [
    "# gerando um gráfico de barras para a variável Mother's job\n",
    "data['Mother\\'s occupation'].value_counts().plot(\n",
    "    kind='bar',\n",
    "    title='Distribuição de Profissão da Mãe',\n",
    "    color=['blue', 'red']\n",
    ")"
   ]
  },
  {
   "cell_type": "code",
   "execution_count": null,
   "metadata": {},
   "outputs": [],
   "source": [
    "# analisando a variavel Father's occupation\n",
    "\n",
    "data.groupby('Father\\'s occupation').size()"
   ]
  },
  {
   "cell_type": "code",
   "execution_count": null,
   "metadata": {},
   "outputs": [],
   "source": [
    "# gerando um gráfico de barras para a variável Father's qualification\n",
    "data['Father\\'s occupation'].value_counts().plot(\n",
    "    kind='bar',\n",
    "    title='Distribuição de Profissão do Pai',\n",
    "    color=['blue', 'red']\n",
    ")"
   ]
  },
  {
   "cell_type": "code",
   "execution_count": null,
   "metadata": {},
   "outputs": [],
   "source": [
    "# analisando a variavel Debtor\n",
    "data.groupby('Debtor').size()"
   ]
  },
  {
   "cell_type": "code",
   "execution_count": null,
   "metadata": {},
   "outputs": [],
   "source": [
    "# gerando um gráfico de barras para a variável Debtor\n",
    "\n",
    "data.Debtor.value_counts().plot(\n",
    "    kind='bar',\n",
    "    title='Distribuição de Devedores',\n",
    "    color=['blue', 'red']\n",
    ")"
   ]
  },
  {
   "cell_type": "code",
   "execution_count": null,
   "metadata": {},
   "outputs": [],
   "source": [
    "data.groupby('Target').size()"
   ]
  },
  {
   "cell_type": "code",
   "execution_count": null,
   "metadata": {},
   "outputs": [],
   "source": [
    "# analisando a distribuição da variável TARGET. Podemos observar que a classe 'Graduate' é a que possui menos registros.\n",
    "data.Target.value_counts().plot(\n",
    "    kind='bar',\n",
    "    color=['blue', 'green', 'red'],\n",
    "    title='Distribuição da Variável TARGET'\n",
    ")"
   ]
  },
  {
   "cell_type": "markdown",
   "metadata": {},
   "source": [
    "##### 6º - Analisar a relação das variaveis x target."
   ]
  },
  {
   "cell_type": "code",
   "execution_count": null,
   "metadata": {},
   "outputs": [],
   "source": [
    "# analisando a distribuição da variável TARGET x GENDER\n",
    "sns.countplot(data = data, x = 'Gender', hue = 'Target')\n",
    "plt.title('Gender x Target')"
   ]
  },
  {
   "cell_type": "code",
   "execution_count": null,
   "metadata": {},
   "outputs": [],
   "source": [
    "# analisando a distribuição da variável TARGET x NACIONALITY\n",
    "sns.countplot(data = data, x = 'Nacionality', hue = 'Target')\n",
    "plt.title('Gender x Nacionality')"
   ]
  },
  {
   "cell_type": "code",
   "execution_count": null,
   "metadata": {},
   "outputs": [],
   "source": [
    "# analisando a distribuição da variável TARGET x MOTHER'S QUALIFICATION\n",
    "sns.countplot(data = data, x = 'Mother\\'s qualification', hue = 'Target')\n",
    "plt.title('Mother\\'s qualification x Target')"
   ]
  },
  {
   "cell_type": "code",
   "execution_count": null,
   "metadata": {},
   "outputs": [],
   "source": [
    "# analisando a distribuição da variável TARGET x FATHER'S QUALIFICATION\n",
    "sns.countplot(data = data, x = 'Father\\'s qualification', hue = 'Target')\n",
    "plt.title('Father\\'s qualification x Target')"
   ]
  },
  {
   "cell_type": "code",
   "execution_count": null,
   "metadata": {},
   "outputs": [],
   "source": [
    "# analisando a distribuição da variável TARGET x MOTHER'S OCCUPATION\n",
    "sns.countplot(data = data, x = 'Mother\\'s occupation', hue = 'Target')\n",
    "plt.title('Mother\\'s occupation x Target')"
   ]
  },
  {
   "cell_type": "code",
   "execution_count": null,
   "metadata": {},
   "outputs": [],
   "source": [
    "# analisando a distribuição da variável TARGET x FATHER'S JOB\n",
    "sns.countplot(data = data, x = 'Father\\'s occupation', hue = 'Target')\n",
    "plt.title('Father\\'s occupation x Target')"
   ]
  },
  {
   "cell_type": "code",
   "execution_count": null,
   "metadata": {},
   "outputs": [],
   "source": [
    "# analisando a distribuição da variável TARGET x DEBTOR\n",
    "\n",
    "sns.countplot(data = data, x = 'Debtor', hue = 'Target')\n",
    "plt.title('Debtor x Target')"
   ]
  },
  {
   "cell_type": "markdown",
   "metadata": {},
   "source": [
    "##### 7º - Verificar outliers"
   ]
  },
  {
   "cell_type": "code",
   "execution_count": null,
   "metadata": {},
   "outputs": [],
   "source": [
    "# verificar se existe colunas dos tipos não numéricas\n",
    "\n",
    "varNumericas = []\n",
    "for col in data.columns:\n",
    "    if data[col].dtype != 'object':\n",
    "        varNumericas.append(col)\n",
    "\n",
    "varNumericas, len(varNumericas)"
   ]
  },
  {
   "cell_type": "code",
   "execution_count": null,
   "metadata": {},
   "outputs": [],
   "source": [
    "# Gerar boxplot para as variáveis numéricas\n",
    "\n",
    "plt.rcParams['figure.figsize'] = [30, 285]\n",
    "plt.rcParams['figure.autolayout'] = True\n",
    "plt.rcParams.update({'font.size': 22})\n",
    "f, axes = plt.subplots(19, 2)\n",
    "\n",
    "row = 0\n",
    "col = 0\n",
    "\n",
    "for i in varNumericas:\n",
    "    sns.boxplot(data = data, y=i, ax=axes[row][col])\n",
    "    col += 1\n",
    "    if col == 2:\n",
    "        row += 1\n",
    "        col = 0\n",
    "\n",
    "plt.show()"
   ]
  },
  {
   "cell_type": "markdown",
   "metadata": {},
   "source": [
    "##### 8º - Analisar a distribuição dos dados"
   ]
  },
  {
   "cell_type": "code",
   "execution_count": null,
   "metadata": {},
   "outputs": [],
   "source": [
    "#avaliar se os dados abaixo são outliers\n",
    "\n",
    "plt.rcParams['figure.figsize'] = [30, 285]\n",
    "plt.rcParams['figure.autolayout'] = True\n",
    "plt.rcParams.update({'font.size': 22})\n",
    "f, axes = plt.subplots(19, 2)\n",
    "\n",
    "row = 0\n",
    "col = 0\n",
    "\n",
    "\n",
    "for i in varNumericas:\n",
    "    sns.histplot(data = data, y=i, ax=axes[row][col])\n",
    "    col += 1\n",
    "    if col == 2:\n",
    "        row += 1\n",
    "        col = 0\n",
    "\n",
    "plt.show()"
   ]
  }
 ],
 "metadata": {
  "kernelspec": {
   "display_name": "Python 3",
   "language": "python",
   "name": "python3"
  },
  "language_info": {
   "codemirror_mode": {
    "name": "ipython",
    "version": 3
   },
   "file_extension": ".py",
   "mimetype": "text/x-python",
   "name": "python",
   "nbconvert_exporter": "python",
   "pygments_lexer": "ipython3",
   "version": "3.11.9"
  }
 },
 "nbformat": 4,
 "nbformat_minor": 2
}
